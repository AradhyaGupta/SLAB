{
 "cells": [
  {
   "cell_type": "code",
   "execution_count": 190,
   "metadata": {
    "scrolled": false
   },
   "outputs": [],
   "source": [
    "\n",
    "# To read the file csv file\n",
    "with open(\"googleOCR.csv\") as f:\n",
    "    lis=[line.split(\",\") for line in f]        # create a list of lists\n",
    "finalAngle = []    #list to store all the final angle value\n",
    "pk = []    #list to store the primary key value\n",
    "\n",
    "# below is the process to calculate the finalAngle value and store it in the above list\n",
    "for i in range(1, len(lis)):\n",
    "    FOV = int((lis[i][3]))/2    #it is the field of view with respect to the reference axis\n",
    "    referencePixel = 960    #it is the pixel of the reference axis\n",
    "    signBoardPixelX1 = lis[i][4]   #it is the X1 coordinate of the sign board\n",
    "    signBoardPixelX1 = int(signBoardPixelX1[2:])\n",
    "    signBoardPixelX2 = int(lis[i][5])    #it is the X2 coordinate of the sign board\n",
    "    avgSignBoardPixel = (signBoardPixelX1 + signBoardPixelX2)/2    #it is average pixel distance from the starting point of image\n",
    "    distanceFromReferenceAxis = avgSignBoardPixel - referencePixel    #it is the distance of the avg sign board pixel from the reference axis\n",
    "    anglePerPixel = FOV/(referencePixel) #it is to calculare angle value for 1 pixel\n",
    "    angleSignBoard = round((anglePerPixel * distanceFromReferenceAxis),7)    #it is to calculate the angle of pixel from the google camera\n",
    "    #to retrive the Heading value\n",
    "    if((lis[i][10]).replace(\".\",\"\",1).replace(\"-\",\"\",1).isdigit() == True):\n",
    "        Heading = float(lis[i][10])\n",
    "    elif((lis[i][11]).replace(\".\",\"\",1).replace(\"-\",\"\",1).isdigit() == True):\n",
    "        Heading = float(lis[i][11])\n",
    "    else:\n",
    "        Heading = float(lis[i][12])\n",
    "        \n",
    "    pk.append(lis[i][0])\n",
    "    finalAngleValue = Heading + angleSignBoard\n",
    "    \n",
    "    if float(finalAngleValue) > 359.9999999:\n",
    "        finalAngle.append(round((float(finalAngleValue) - 360),7))\n",
    "    else:\n",
    "        finalAngle.append(round(float(finalAngleValue),7))\n",
    "#to put the values in a new csv file\n",
    "with open('googleOCRAngle.csv','w') as file:\n",
    "    file.write(\"pk\")\n",
    "    file.write(',')\n",
    "    file.write(\"finalAngle\")\n",
    "    file.write('\\n')\n",
    "    for line in range(0, len(finalAngle)):\n",
    "        file.write(str(pk[line]))\n",
    "        file.write(',')\n",
    "        file.write(str(finalAngle[line]))\n",
    "        file.write('\\n')"
   ]
  }
 ],
 "metadata": {
  "kernelspec": {
   "display_name": "Python 3",
   "language": "python",
   "name": "python3"
  },
  "language_info": {
   "codemirror_mode": {
    "name": "ipython",
    "version": 3
   },
   "file_extension": ".py",
   "mimetype": "text/x-python",
   "name": "python",
   "nbconvert_exporter": "python",
   "pygments_lexer": "ipython3",
   "version": "3.6.1"
  }
 },
 "nbformat": 4,
 "nbformat_minor": 2
}
